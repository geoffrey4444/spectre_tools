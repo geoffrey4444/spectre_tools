{
 "cells": [
  {
   "cell_type": "code",
   "execution_count": null,
   "metadata": {},
   "outputs": [],
   "source": [
    "import numpy as np\n",
    "import h5py\n",
    "import shutil"
   ]
  },
  {
   "cell_type": "code",
   "execution_count": null,
   "metadata": {},
   "outputs": [],
   "source": [
    "def get_spectre_points_per_block(spectre_file):\n",
    "    \"\"\"Reads a file produced by spectre's ExportCoordinates\n",
    "    and returns two lists: i) the number of points in each block\n",
    "    and ii) the names of the blocks.\"\"\"\n",
    "    observation_id = list(spectre_file['element_data.vol'].keys())[0]\n",
    "    coords_dict = dict(spectre_file['element_data.vol'][observation_id])\n",
    "    components = ['InertialCoordinates_x', 'InertialCoordinates_y', 'InertialCoordinates_z']\n",
    "    \n",
    "    blocks = list(coords_dict.keys())[:]\n",
    "    \n",
    "    points_per_block = []\n",
    "    for block in blocks:\n",
    "        points_per_block.append(len(coords_dict[block][components[0]]))\n",
    "    return np.array(points_per_block), np.array(blocks)\n",
    "\n",
    "def get_spec_points(spectre_file):\n",
    "    \"\"\"Converts points from a file produced by spectre's ExportCoordinates\n",
    "    to a flat list of points, suitable for SpEC to read in (e.g., \n",
    "    for interpolating data onto those points)\"\"\"\n",
    "    observation_id = list(spectre_file['element_data.vol'].keys())[0]\n",
    "    coords_dict = dict(spectre_file['element_data.vol'][observation_id])\n",
    "\n",
    "    blocks = list(coords_dict.keys())[:]\n",
    "    components = ['InertialCoordinates_x', 'InertialCoordinates_y', 'InertialCoordinates_z']\n",
    "    dim = len(components)\n",
    "    \n",
    "    coords = []\n",
    "    for component in components:\n",
    "        coords.append([])\n",
    "        \n",
    "    for block in blocks:\n",
    "        for i,component in enumerate(components):\n",
    "            coords[i].append(coords_dict[block][component])\n",
    "    return np.transpose(np.array([np.concatenate(x) for x in coords]))\n",
    "\n",
    "def get_spectre_values_from_spec_values(array_1D, spectre_points_file):\n",
    "    \"\"\"Take a 1D array of values, listed point-by-point (as returned by spec),\n",
    "    and return a dictionary, keyed by block name, of the values at each spectre point.\n",
    "    spectre_points_file is a file containing the structured spectre points, e.g., \n",
    "    the file output by ExportCoordinates.\"\"\"\n",
    "    points_per_block, blocks = get_spectre_points_per_block(file)\n",
    "    points = get_spec_points(file)\n",
    "    \n",
    "    spectre_values = {}\n",
    "    for i,block in enumerate(blocks):\n",
    "        start = np.sum(points_per_block[:i])\n",
    "        end = start + points_per_block[i]\n",
    "        spectre_values[block] = array_1D[start:end]\n",
    "    return spectre_values"
   ]
  },
  {
   "cell_type": "code",
   "execution_count": null,
   "metadata": {},
   "outputs": [],
   "source": [
    "%%time\n",
    "\n",
    "# Convert spectre points to spec and write the results to a file\n",
    "file = h5py.File(\"VolumeData0.h5\", 'r')\n",
    "points_per_block, blocks = get_spectre_points_per_block(file)\n",
    "points = get_spec_points(file)\n",
    "file.close()\n",
    "print(points.shape)\n",
    "np.savetxt(\"PointsList.txt\", points)"
   ]
  },
  {
   "cell_type": "code",
   "execution_count": null,
   "metadata": {},
   "outputs": [],
   "source": [
    "%%time\n",
    "\n",
    "# Convert points in spectre format to spec\n",
    "file = h5py.File(\"VolumeData0.h5\", 'r')\n",
    "points_per_block, blocks = get_spectre_points_per_block(file)\n",
    "points = get_spec_points(file)\n",
    "\n",
    "# Treat x,y,z as scalars in spec format\n",
    "# Convert to spectre format and make sure you recover the \n",
    "# original coordinates\n",
    "test_coords = np.array([get_spectre_values_from_spec_values(points[:,0], file), \n",
    "                        get_spectre_values_from_spec_values(points[:,1], file),\n",
    "                        get_spectre_values_from_spec_values(points[:,2], file)])\n",
    "\n",
    "observation_id = list(file['element_data.vol'].keys())[0]\n",
    "components = ['InertialCoordinates_x', 'InertialCoordinates_y', 'InertialCoordinates_z']\n",
    "all_points_the_same = []\n",
    "for block in blocks:\n",
    "    for i,component in enumerate(components):\n",
    "        all_the_same_this_block = np.all(np.array(test_coords[i][block]) \n",
    "                                         == np.array(file['element_data.vol'][observation_id][block][component]))\n",
    "        all_points_the_same = all_points_the_same and all_the_same_this_block\n",
    "\n",
    "print(\"All x,y,z coordinates are the same: \" + str(np.all(all_points_the_same)))\n",
    "file.close()"
   ]
  },
  {
   "cell_type": "code",
   "execution_count": null,
   "metadata": {},
   "outputs": [],
   "source": [
    "# Test reading in some interpolated data\n",
    "lapse = np.genfromtxt(\"spec/Lev1/Run/Lapse.dat\")\n",
    "file = h5py.File(\"VolumeData0.h5\", 'r')\n",
    "points_per_block, blocks = get_spectre_points_per_block(file)\n",
    "observation_id = list(file['element_data.vol'].keys())[0]\n",
    "points = get_spec_points(file)\n",
    "lapse_spectre = get_spectre_values_from_spec_values(lapse, file)\n",
    "file.close()\n",
    "\n",
    "# Test writing interpolated data into an H5 file\n",
    "shutil.copyfile(\"VolumeData0.h5\", \"ID_VolumeData0.h5\")\n",
    "outfile = h5py.File(\"ID_VolumeData0.h5\", 'a')\n",
    "for block in blocks:\n",
    "    outfile['element_data.vol'][observation_id][block][\"Lapse.dat\"] = lapse_spectre[block]\n",
    "outfile.close()"
   ]
  },
  {
   "cell_type": "code",
   "execution_count": null,
   "metadata": {},
   "outputs": [],
   "source": []
  }
 ],
 "metadata": {
  "kernelspec": {
   "display_name": "Python 3",
   "language": "python",
   "name": "python3"
  },
  "language_info": {
   "codemirror_mode": {
    "name": "ipython",
    "version": 3
   },
   "file_extension": ".py",
   "mimetype": "text/x-python",
   "name": "python",
   "nbconvert_exporter": "python",
   "pygments_lexer": "ipython3",
   "version": "3.6.8"
  }
 },
 "nbformat": 4,
 "nbformat_minor": 2
}
